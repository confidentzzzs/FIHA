{
  "cells": [
    {
      "cell_type": "code",
      "execution_count": null,
      "metadata": {
        "vscode": {
          "languageId": "plaintext"
        }
      },
      "outputs": [],
      "source": [
        "import json\n",
        "import base64\n",
        "import os\n",
        "import textwrap\n",
        "from openai import OpenAI\n",
        "\n",
        "GPT4V_KEY = \"your_api_key\"\n",
        "\n",
        "client = OpenAI(api_key=GPT4V_KEY)\n",
        "\n",
        "def send_jpg_image_to_gpt4v(image_path, question, api_key, call_count):\n",
        "    # read file\n",
        "    with open(image_path, 'rb') as image_file:\n",
        "        encoded_image = base64.b64encode(image_file.read()).decode('ascii')\n",
        "\n",
        "    # send request\n",
        "    result = client.chat.completions.create(\n",
        "        model=\"gpt-4-1106-vision-preview\",\n",
        "        messages=[\n",
        "            {\n",
        "                \"role\": \"user\",\n",
        "                \"content\": [\n",
        "                    {\"type\": \"text\", \"text\": question},\n",
        "                    {\n",
        "                        \"type\": \"image\",\n",
        "                        \"image\": encoded_image\n",
        "                    },\n",
        "                ],\n",
        "            }\n",
        "        ],\n",
        "        max_tokens=300,\n",
        "    )\n",
        "\n",
        "    call_count += 1\n",
        "\n",
        "    print(f\"API call count: {call_count}\")\n",
        "\n",
        "    result_text = textwrap.fill(result.choices[0].message.content, width=70)\n",
        "    print(result_text)\n",
        "    return result_text, call_count\n",
        "\n",
        "call_count = 0\n",
        "\n",
        "with open('/content/drive/MyDrive/experiment/Foggy_qa_caption.json', 'r', encoding='utf-8') as file:\n",
        "    with open('/content/drive/MyDrive/experiment/Foggy_qa_caption_answers4.json', 'a', encoding='utf-8') as output_file:\n",
        "        # read line\n",
        "        for line in file:\n",
        "\n",
        "            item = json.loads(line)\n",
        "            image_name = item['image']\n",
        "            question = item['question']\n",
        "            image_path = os.path.join('/content/drive/MyDrive/Foggy Cityscapes Dataset/Foggy_150', image_name)\n",
        "            text, call_count = send_jpg_image_to_gpt4v(image_path, question, GPT4V_KEY, call_count)\n",
        "\n",
        "            if text:\n",
        "                data1 = {\n",
        "                    \"question_id\": item.get('question_id', ''),\n",
        "                    \"image\": image_name,\n",
        "                    \"prompt\": question,\n",
        "                    \"text\": text\n",
        "                }\n",
        "                json.dump(data1, output_file)\n",
        "                output_file.write('\\n')\n",
        "\n",
        "\n",
        "print(f\"Total number of API calls made: {call_count}\")"
      ]
    }
  ],
  "metadata": {
    "colab": {
      "provenance": []
    },
    "kernelspec": {
      "display_name": "Python 3",
      "name": "python3"
    },
    "language_info": {
      "name": "python"
    }
  },
  "nbformat": 4,
  "nbformat_minor": 0
}
